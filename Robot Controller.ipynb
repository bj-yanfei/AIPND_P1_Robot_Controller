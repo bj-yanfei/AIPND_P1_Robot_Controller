{
 "cells": [
  {
   "cell_type": "markdown",
   "metadata": {},
   "source": [
    "## 控制迷宫寻宝机器人\n",
    "\n",
    "在这个项目中，你将使用刚刚学到的知识，尝试根据要求，编写代码，来控制一个机器人，在模拟环境中行走，并找到目标宝藏。\n",
    "\n",
    "机器人所在的模拟环境中，会包含这样几个因素：机器人的起点、障碍物、宝藏箱。你的任务包括：\n",
    "\n",
    "1. 分析模拟环境的数据\n",
    "2. 控制机器人随机行动\n",
    "3. （可选）控制机器人走到终点\n",
    "\n",
    "\n",
    "* 一个良好的含有注释的代码，可以让你的程序可读性更高，尝试为你自己的代码添加相应的注释。"
   ]
  },
  {
   "cell_type": "markdown",
   "metadata": {},
   "source": [
    "---\n",
    "\n",
    "---\n",
    "\n",
    "## 第一节 分析模拟环境的数据\n",
    "\n",
    "首先，只有足够了解机器人所在的环境，我们的机器人才能成功找到目标宝藏，因此首先我们来对机器人所在环境的数据进行分析。在这个部分，会考察你对数据结构、控制流的了解。\n"
   ]
  },
  {
   "cell_type": "markdown",
   "metadata": {},
   "source": [
    "### 1.1 理解模拟环境数据的储存格式\n",
    "\n",
    "首先我们思考这样的问题：如何存储模拟环境的数据呢？\n",
    "\n",
    "我们将我们的模拟环境抽象成一个格子世界，每个格子按照坐标编号进行标记；每个格子中会有四个情况，分别为普通格子（可通行）、机器人的起点（可通行）、障碍物（不可通行）、宝藏箱（目标点）。例如，一个模拟环境就可以抽象成3行4列的格子世界，并按这按这样的方法进行存储：\n",
    "```\n",
    "environment = [[0,0,0,2], \n",
    "               [1,2,0,0],\n",
    "               [0,2,3,2]]\n",
    "```\n",
    "我们用了一个列表来保存虚拟世界的数据。外层列表中的每一个元素依然是一个列表，它代表模拟环境中每行的数据。而对于这个列表中的每个元素都是一个数，它们的含义是：\n",
    "- 0: 普通格子（可通行）\n",
    "- 1: 机器人的起点（可通行）\n",
    "- 2: 障碍物（不可通行）\n",
    "- 3: 宝藏箱（目标点）\n",
    "\n",
    "那么，根据上述的数据，这个迷宫的第二行第一列，是我们机器人的起点。\n",
    "\n",
    "__注：我们描述的迷宫的坐标位置（第一行第一列），和迷宫下标索引的值（如 `(0,0)`）是不一样的，请注意下标的问题。__\n",
    "\n",
    "\n",
    "如下的代码，使用了辅助函数，读取了模拟环境的数据，并保存在了 `env_data` 变量中。\n"
   ]
  },
  {
   "cell_type": "code",
   "execution_count": 1,
   "metadata": {},
   "outputs": [
    {
     "name": "stdout",
     "output_type": "stream",
     "text": [
      "maze-id 1-1561118673\n",
      "[[3, 2, 2, 2, 2, 2, 2, 2, 1],\n",
      " [0, 0, 2, 2, 2, 2, 2, 0, 0],\n",
      " [2, 0, 0, 2, 2, 2, 0, 0, 2],\n",
      " [2, 2, 0, 0, 2, 0, 0, 2, 2],\n",
      " [2, 2, 2, 0, 0, 0, 2, 2, 2]]\n"
     ]
    }
   ],
   "source": [
    "import helper\n",
    "\n",
    "env_data = helper.fetch_maze()"
   ]
  },
  {
   "cell_type": "markdown",
   "metadata": {},
   "source": [
    "---\n",
    "\n",
    "\n",
    "**任务1：**在如下代码中，请写代码获得这些值：\n",
    "\n",
    "1. 模拟环境的长和宽\n",
    "2. 模拟环境中第3行第6列元素"
   ]
  },
  {
   "cell_type": "code",
   "execution_count": 2,
   "metadata": {},
   "outputs": [
    {
     "name": "stdout",
     "output_type": "stream",
     "text": [
      "迷宫共有 5 行 9 列，第三行第六列的元素是 2\n"
     ]
    }
   ],
   "source": [
    "#TODO 1模拟环境的行数\n",
    "rows = len(env_data) \n",
    "\n",
    "#TODO 2模拟环境的列数\n",
    "columns = len(env_data[0])\n",
    "\n",
    "#TODO 3取出模拟环境第三行第六列的元素\n",
    "row_3_col_6 = env_data[3-1][6-1]\n",
    "\n",
    "print(\"迷宫共有\", rows, \"行\", columns, \"列，第三行第六列的元素是\", row_3_col_6)"
   ]
  },
  {
   "cell_type": "markdown",
   "metadata": {
    "collapsed": true
   },
   "source": [
    "---\n",
    "\n",
    "## 1.2 分析模拟环境数据\n",
    "\n",
    "接着我们需要对模拟环境的中的数据进行分析。请根据如下的指示，计算相应的值。\n",
    "\n",
    "---\n",
    "\n",
    "**任务2：**在如下代码中，请计算模拟环境中，第一行和第三列的障碍物个数。\n",
    "\n",
    "提示：*可以用循环完成。*"
   ]
  },
  {
   "cell_type": "code",
   "execution_count": 3,
   "metadata": {},
   "outputs": [
    {
     "name": "stdout",
     "output_type": "stream",
     "text": [
      "迷宫中，第一行共有 7 个障碍物，第三列共有 3 个障碍物。\n"
     ]
    }
   ],
   "source": [
    "#TODO 4计算模拟环境中，第一行的的障碍物个数。\n",
    "number_of_barriers_row1 = 0\n",
    "for num in env_data[0]:\n",
    "    if num == 2:\n",
    "        number_of_barriers_row1 += 1\n",
    "\n",
    "#TODO 5计算模拟环境中，第三列的的障碍物个数。\n",
    "number_of_barriers_col3 = 0\n",
    "for index in range(rows):\n",
    "    if env_data[index][3-1] == 2:\n",
    "        number_of_barriers_col3 += 1\n",
    "\n",
    "print(\"迷宫中，第一行共有\", number_of_barriers_row1, \"个障碍物，第三列共有\", number_of_barriers_col3, \"个障碍物。\")"
   ]
  },
  {
   "cell_type": "code",
   "execution_count": null,
   "metadata": {},
   "outputs": [],
   "source": [
    "%run -i -e test.py RobotControllortTestCase.test_cal_barriers"
   ]
  },
  {
   "cell_type": "markdown",
   "metadata": {},
   "source": [
    "---\n",
    "\n",
    "**任务3：**在如下代码中：\n",
    "\n",
    "1. 创建一个名为 `loc_map` 的字典，它有两个键值，分别为 `start` 和 `destination`，对应的值分别为起点和目标点的坐标，它们以如 `(0,0)` 的形式保存为元组。\n",
    "2. 从字典中取出 `start` 对应的值，保存在 `robot_current_loc` 对应的变量中，这个变量表示小车现在的位置。"
   ]
  },
  {
   "cell_type": "code",
   "execution_count": 4,
   "metadata": {},
   "outputs": [],
   "source": [
    "loc_map = {} #TODO 6按照上述要求创建字典\n",
    "for row in range(rows):\n",
    "    for column in range(columns):\n",
    "        if env_data[row][column] == 1:\n",
    "            loc_map['start'] = (row, column)\n",
    "        if env_data[row][column] == 3:\n",
    "            loc_map['destination'] = (row, column)\n",
    "\n",
    "robot_current_loc = loc_map['start'] #TODO 7保存机器人当前的位置"
   ]
  },
  {
   "cell_type": "code",
   "execution_count": 5,
   "metadata": {},
   "outputs": [
    {
     "name": "stderr",
     "output_type": "stream",
     "text": [
      ".\n",
      "----------------------------------------------------------------------\n",
      "Ran 1 test in 0.001s\n",
      "\n",
      "OK\n"
     ]
    }
   ],
   "source": [
    "%run -i -e test.py RobotControllortTestCase.test_cal_loc_map"
   ]
  },
  {
   "cell_type": "markdown",
   "metadata": {},
   "source": [
    "\n",
    "---\n",
    "\n",
    "---\n",
    "\n",
    "## 第二节 控制机器人随机漫步\n",
    "\n",
    "在这一步中，你需发出指令，控制机器人在环境中随机行动。它会考察你对控制流、调用函数的知识。"
   ]
  },
  {
   "cell_type": "markdown",
   "metadata": {},
   "source": [
    "\n",
    "\n",
    "## 2.1 控制机器人行动\n",
    "\n",
    "我们的机器人能够执行四个动作：向上走 `u`、向下走 `d`、向左走 `l`、向右走 `r`。但是，由于有障碍，很多时候机器人的行动并不能成功。所以在这里，你需要实现一个函数，来判断机器人在某个位置，执行某个移动动作是否可行。\n",
    "\n",
    "---\n",
    "\n",
    "**任务4：**在下方代码中，实现名为 `is_move_valid_special` 的函数，它有两个输入，分别为机器人所在的位置坐标 `loc`，以及即将执行的动作 `act`，如 `(1,1)` 及 `u`。接着它的返回是一个布尔值，表明小车在 `loc` 位置下，是否可以执行动作 `act`。\n",
    "\n",
    "\n",
    "提示1：*可以读取上方定义的 `env_data` 变量，来读取模拟环境的数据。*\n",
    "\n",
    "提示2：*在实现函数后，请删去下方的 `pass` 代码。*\n",
    "\n",
    "提示3：*我们需要处理边界的情况，即机器人走到了虚拟环境边界时，是不能够走出虚拟环境的。*"
   ]
  },
  {
   "cell_type": "code",
   "execution_count": 6,
   "metadata": {},
   "outputs": [],
   "source": [
    "def is_move_valid_special(loc, act):\n",
    "    \"\"\"\n",
    "    Judge wether the robot can take action act\n",
    "    at location loc.\n",
    "    \n",
    "    Keyword arguments:\n",
    "    loc -- tuple, robots current location\n",
    "    act -- string, robots meant action\n",
    "    \"\"\"\n",
    "    #TODO 8\n",
    "    now_row, now_column = loc\n",
    "    ret = False\n",
    "    if act == 'u': #上\n",
    "        if now_row - 1 >= 0 and env_data[now_row-1][now_column] != 2:\n",
    "            return True\n",
    "    elif act == 'd': #下\n",
    "        if now_row + 1 <= rows - 1 and env_data[now_row+1][now_column] != 2:\n",
    "            return True\n",
    "    elif act == 'l': #左\n",
    "        if now_column - 1 >= 0 and env_data[now_row][now_column-1] != 2:\n",
    "            return True\n",
    "    elif act == 'r': #右\n",
    "        if now_column + 1 <= columns - 1 and env_data[now_row][now_column+1] != 2:\n",
    "            return True\n",
    "\n",
    "    return False"
   ]
  },
  {
   "cell_type": "code",
   "execution_count": 7,
   "metadata": {},
   "outputs": [
    {
     "name": "stderr",
     "output_type": "stream",
     "text": [
      ".\n",
      "----------------------------------------------------------------------\n",
      "Ran 1 test in 0.001s\n",
      "\n",
      "OK\n"
     ]
    }
   ],
   "source": [
    "%run -i -e test.py RobotControllortTestCase.test_is_move_valid_special"
   ]
  },
  {
   "cell_type": "markdown",
   "metadata": {},
   "source": [
    "---\n",
    "**任务5：**在下方代码中，重新实现一个名为 `is_move_valid` 的函数，它有三个输入，分别为模拟环境的数据 `env_data`、机器人所在的位置坐标 `loc`、以及即将执行的动作 `act`。它的返回值与此前一样，是一个布尔值，表明小车在给定的虚拟环境中的 `loc` 位置下，是否可以执行动作 `act`。"
   ]
  },
  {
   "cell_type": "code",
   "execution_count": 8,
   "metadata": {},
   "outputs": [],
   "source": [
    "def is_move_valid(env_data, loc, act):\n",
    "    \"\"\"\n",
    "    Judge wether the robot can take action act\n",
    "    at location loc.\n",
    "    \n",
    "    Keyword arguments:\n",
    "    env -- list, the environment data\n",
    "    loc -- tuple, robots current location\n",
    "    act -- string, robots meant action\n",
    "    \"\"\"\n",
    "    #TODO 9\n",
    "    now_row, now_column = loc\n",
    "    ret = False\n",
    "    if act == 'u': #上\n",
    "        if now_row - 1 >= 0 and env_data[now_row-1][now_column] != 2:\n",
    "            return True\n",
    "    elif act == 'd': #下\n",
    "        if now_row + 1 <= rows - 1 and env_data[now_row+1][now_column] != 2:\n",
    "            return True\n",
    "    elif act == 'l': #左\n",
    "        if now_column - 1 >= 0 and env_data[now_row][now_column-1] != 2:\n",
    "            return True\n",
    "    elif act == 'r': #右\n",
    "        if now_column + 1 <= columns - 1 and env_data[now_row][now_column+1] != 2:\n",
    "            return True\n",
    "\n",
    "    return False"
   ]
  },
  {
   "cell_type": "code",
   "execution_count": 9,
   "metadata": {},
   "outputs": [
    {
     "name": "stderr",
     "output_type": "stream",
     "text": [
      ".\n",
      "----------------------------------------------------------------------\n",
      "Ran 1 test in 0.001s\n",
      "\n",
      "OK\n"
     ]
    }
   ],
   "source": [
    "%run -i -e test.py RobotControllortTestCase.test_is_move_valid"
   ]
  },
  {
   "cell_type": "markdown",
   "metadata": {},
   "source": [
    "---\n",
    "\n",
    "**任务6：**请回答：\n",
    "  1. 在任务4及任务5中的实现的两个函数中，`env_data` 这个变量有什么不同？\n",
    "  2. 调用``is_move_valid``函数，参数为``env_data_``、``loc_``、``act_``，如果在函数内修改``env_data``是否会改变``env_data_``的值？为什么？\n",
    "  \n",
    "提示：_可以尝试从变量作用域的角度回答该问题1。_\n",
    "\n",
    "\n",
    "提示：_可以尝试从可变类型变量和不可变类型变量的角度回答该问题2。_\n",
    "\n"
   ]
  },
  {
   "cell_type": "markdown",
   "metadata": {},
   "source": [
    "**回答：** 1、任务4里的env_data是全局变量，任务5里的env_data是is_move_valid的参数，其覆盖了全局变量\n",
    "2、在函数内修改env_data会改变全局变量的env_data，env_data是list，是可变类型，通过传参的形式传入函数内，是一种类似引用的传参，在函数内修改全局变量，会影响函数内的参数"
   ]
  },
  {
   "cell_type": "markdown",
   "metadata": {},
   "source": [
    "---\n",
    "\n",
    "## 2.2 机器人可行动作\n",
    "\n",
    "---\n",
    "\n",
    "**任务7：**编写一个名为 `valid_actions` 的函数。它有两个输入，分别为虚拟环境的数据 `env_data`，以及机器人所在的位置 `loc`，输出是一个列表，表明机器人在这个位置所有的可行动作。\n",
    "\n",
    "提示：*可以尝试调用上方定义的`is_move_valid`函数。*\n"
   ]
  },
  {
   "cell_type": "code",
   "execution_count": 10,
   "metadata": {},
   "outputs": [],
   "source": [
    "## TODO 10 从头定义、实现你的函数\n",
    "def valid_actions(env_data_, loc):\n",
    "    ret = []\n",
    "    if is_move_valid(env_data_, loc, 'u'):\n",
    "        ret.append('u')\n",
    "    if is_move_valid(env_data_, loc, 'd'):\n",
    "        ret.append('d')\n",
    "    if is_move_valid(env_data_, loc, 'l'):\n",
    "        ret.append('l')\n",
    "    if is_move_valid(env_data_, loc, 'r'):\n",
    "        ret.append('r')\n",
    "    return ret"
   ]
  },
  {
   "cell_type": "code",
   "execution_count": 11,
   "metadata": {},
   "outputs": [
    {
     "name": "stderr",
     "output_type": "stream",
     "text": [
      ".\n",
      "----------------------------------------------------------------------\n",
      "Ran 1 test in 0.001s\n",
      "\n",
      "OK\n"
     ]
    }
   ],
   "source": [
    "%run -i -e test.py RobotControllortTestCase.test_valid_actions"
   ]
  },
  {
   "cell_type": "markdown",
   "metadata": {},
   "source": [
    "---\n",
    "\n",
    "## 2.3 移动机器人\n",
    "\n",
    "当机器人收到一个动作的时候，你机器人的位置应发生相应的变化。\n",
    "\n",
    "**任务8：**编写一个名为 `move_robot` 的函数，它有两个输入，分别为机器人当前所在的位置 `loc` 和即将执行的动作 `act`。接着会返回机器人执行动作之后的新位置 `new_loc`。"
   ]
  },
  {
   "cell_type": "code",
   "execution_count": 12,
   "metadata": {},
   "outputs": [],
   "source": [
    "##TODO 11 从头定义、实现你的函数\n",
    "def move_robot(loc, act):\n",
    "    now_row, now_column = loc\n",
    "    if is_move_valid_special(loc, act):\n",
    "        if act == 'u': #上\n",
    "            now_row -= 1\n",
    "        elif act == 'd': #下\n",
    "            now_row += 1\n",
    "        elif act == 'l': #左\n",
    "            now_column -= 1\n",
    "        elif act == 'r': #右\n",
    "            now_column += 1\n",
    "    return (now_row, now_column)"
   ]
  },
  {
   "cell_type": "code",
   "execution_count": 13,
   "metadata": {},
   "outputs": [
    {
     "name": "stderr",
     "output_type": "stream",
     "text": [
      ".\n",
      "----------------------------------------------------------------------\n",
      "Ran 1 test in 0.001s\n",
      "\n",
      "OK\n"
     ]
    }
   ],
   "source": [
    "%run -i -e test.py RobotControllortTestCase.test_move_robot"
   ]
  },
  {
   "cell_type": "markdown",
   "metadata": {},
   "source": [
    "---\n",
    "\n",
    "## 2.4 随机移动机器人\n",
    "\n",
    "接着，我们尝试在虚拟环境中随机移动机器人，看看会有什么效果。\n",
    "\n",
    "**任务9：**编写一个名为 `random_choose_actions` 的函数，它有两个输入，分别为虚拟环境的数据 `env_data`，以及机器人所在的位置 `loc`。机器人会执行一个300次的循环，每次循环，他会执行以下任务：\n",
    "\n",
    "1. 利用上方定义的 `valid_actions` 函数，找出当前位置下，机器人可行的动作；\n",
    "2. 利用 `random` 库中的 `choice` 函数，从机器人可行的动作中，随机挑选出一个动作；\n",
    "3. 接着根据这个动作，利用上方定义的 `move_robot` 函数，来移动机器人，并更新机器人的位置；\n",
    "4. 当机器人走到终点时，输出“在第n个回合找到宝藏！”。\n",
    "\n",
    "提示：如果机器人无法在300个回合内找到宝藏的话，试试看增大这个数字，也许会有不错的效果 :P"
   ]
  },
  {
   "cell_type": "code",
   "execution_count": 14,
   "metadata": {},
   "outputs": [],
   "source": [
    "##TODO 12 从头实现你的函数\n",
    "import random\n",
    "def random_choose_actions(env_data_, loc):\n",
    "    new_loc = loc\n",
    "    for count in range(300):\n",
    "        act_list = valid_actions(env_data_, new_loc)\n",
    "        if len(act_list) != 0:\n",
    "            act = random.choice(act_list)\n",
    "            new_loc = move_robot(new_loc, act)\n",
    "        now_row, now_column = new_loc\n",
    "        if env_data[now_row][now_column] == 3:\n",
    "            print(\"在第{}个回合找到宝藏！\".format(count))\n",
    "            break\n",
    "    if count == 299:\n",
    "        print(\"机器人迷路了!\")"
   ]
  },
  {
   "cell_type": "code",
   "execution_count": 15,
   "metadata": {},
   "outputs": [
    {
     "name": "stdout",
     "output_type": "stream",
     "text": [
      "在第149个回合找到宝藏！\n"
     ]
    }
   ],
   "source": [
    "# 运行\n",
    "random_choose_actions(env_data, robot_current_loc)"
   ]
  },
  {
   "cell_type": "markdown",
   "metadata": {},
   "source": [
    "\n",
    "---\n",
    "\n",
    "---\n",
    "\n",
    "## （可选）第三节 控制机器人走到终点\n",
    "\n",
    "## 3.1 控制机器人走到终点\n",
    "\n",
    "在这里，你将综合上述的知识，编码控制机器人走到终点。这个任务对刚刚入门的你来说可能有些挑战，所以它是一个选做题。\n",
    "\n",
    "**任务10**：尝试实现一个算法，能够对给定的模拟环境，输出机器人的行动策略，使之能够走到终点。\n",
    "\n",
    "提示：_你可以尝试参考：_\n",
    "* 深度/广度优先算法。\n",
    "    以及以下参考资料：\n",
    "    1. https://blog.csdn.net/raphealguo/article/details/7523411 \n",
    "    2. https://www.cnblogs.com/yupeng/p/3414736.html \n",
    "* A星算法。\n",
    "    以及以下参考资料：\n",
    "    1. https://baike.baidu.com/item/A%2A算法 \n",
    "    2. https://blog.csdn.net/hitwhylz/article/details/23089415"
   ]
  },
  {
   "cell_type": "code",
   "execution_count": 19,
   "metadata": {},
   "outputs": [],
   "source": [
    "##TODO 13 实现你的算法\n",
    "import math\n",
    "\n",
    "init_node =  [(-1, -1),    #0, 当前坐标\n",
    "              (-1,  -1),    #1, 父节点坐标\n",
    "              0, 0, 0]      #2, 3, 4  f,g,h\n",
    "\n",
    "map_data = []\n",
    "start_node = list(init_node)\n",
    "end_node = list(init_node)\n",
    "open_list = []\n",
    "close_list = []\n",
    "rows = 0\n",
    "columns = 0\n",
    "\n",
    "#获得两个点之间的h值\n",
    "def get_h(now_node, end_node_):\n",
    "    now_node_x, now_node_y = now_node[0]\n",
    "    end_x, end_y = end_node_[0]\n",
    "    return math.fabs(now_node_x - end_x) + math.fabs(now_node_y - end_y)\n",
    "\n",
    "def init(env_data, start_flag, end_flag):\n",
    "    global rows\n",
    "    rows = len(env_data)\n",
    "    global columns\n",
    "    columns = len(env_data[0])\n",
    "    temp_map = [None] * rows\n",
    "    for row in range(rows):\n",
    "        temp_row = [None] * columns\n",
    "        for column in range(columns):\n",
    "            if env_data[row][column] == start_flag:\n",
    "                start_node[0] = (row, column)\n",
    "            if env_data[row][column] == end_flag:\n",
    "                end_node[0] = (row, column)\n",
    "            temp_node = list(init_node)\n",
    "            temp_node[0] = (row, column)\n",
    "            temp_row[column] = temp_node\n",
    "        temp_map[row] = temp_row\n",
    "\n",
    "    for map_ in temp_map:\n",
    "        map_data.append(map_)\n",
    "\n",
    "    start_node[4] = get_h(start_node, end_node)\n",
    "    start_node[2] = start_node[3] + start_node[4]\n",
    "\n",
    "    # print(\"node_map:\", map_data)\n",
    "    # print(\"rows: {}, columns: {}\".format(rows, columns))\n",
    "    # print(\"start_node:\", start_node)\n",
    "    # print(\"end_node:\", end_node)\n",
    "\n",
    "#判断某点是否在open list中\n",
    "def is_in_list(list_, node_):\n",
    "    for node in list_:\n",
    "        if node[0] == node_[0]:\n",
    "            return True\n",
    "    return False\n",
    "\n",
    "#从open list中找到f值最小的点\n",
    "def get_min_f_node(list_):\n",
    "    if len(list_):\n",
    "        ret = 0\n",
    "        the_min_f = list_[0][2]\n",
    "        for index in range(len(list_)):\n",
    "            if the_min_f >= list_[index][2]:\n",
    "                the_min_f = list_[index][2]\n",
    "                ret = index\n",
    "        return list_[ret]\n",
    "\n",
    "def deal_the_node(env_data, obs_flag, node_, now_node):\n",
    "    node_x, node_y = node_[0]\n",
    "    if (node_x >= 0) and (node_x < rows) and \\\n",
    "        (node_y >=0) and (node_y < columns) and \\\n",
    "        (env_data[node_x][node_y] != obs_flag) and \\\n",
    "        not is_in_list(close_list, node_):\n",
    "        if not is_in_list(open_list, node_):\n",
    "            node_[1] = now_node[0]\n",
    "            map_data[node_x][node_y][1] = now_node[0]\n",
    "            node_[3] = now_node[3] + 1\n",
    "            node_[4] = get_h(node_, end_node)\n",
    "            node_[2] = node_[3] + node_[4]\n",
    "            open_list.append(node_)\n",
    "        else:\n",
    "            if now_node[3] + 1 < node_[3]:\n",
    "                node_[1] = now_node[0]\n",
    "                map_data[node_x][node_y][1] = now_node[0]\n",
    "                node_[3] = now_node[3] + 1\n",
    "                node_[2] = node_[3] + node_[4]\n",
    "\n",
    "\n",
    "#遍历节点周围的4个点\n",
    "def deal_neighbor_node(env_data, obs_flag, now_node):\n",
    "    now_node_x, now_node_y = now_node[0]\n",
    "    temp_node = list(init_node)\n",
    "    temp_node[0] = (now_node_x - 1,  now_node_y)\n",
    "    deal_the_node(env_data, obs_flag, temp_node, now_node) #up\n",
    "\n",
    "    temp_node = list(init_node)\n",
    "    temp_node[0] = (now_node_x + 1,  now_node_y)\n",
    "    deal_the_node(env_data, obs_flag, temp_node, now_node) #down\n",
    "\n",
    "    temp_node = list(init_node)\n",
    "    temp_node[0] = (now_node_x,  now_node_y - 1)\n",
    "    deal_the_node(env_data, obs_flag, temp_node, now_node) #left\n",
    "\n",
    "    temp_node = list(init_node)\n",
    "    temp_node[0] = (now_node_x,  now_node_y + 1)\n",
    "    deal_the_node(env_data, obs_flag, temp_node, now_node) #right\n",
    "\n",
    "#A*算法\n",
    "#env_data_ -- list， 模拟环境数据\n",
    "#start_flag -- int, 环境中起点标记\n",
    "#end_flag -- int, 环境中终点标记\n",
    "#obs_flag -- int,环境中障碍物标记\n",
    "#return -- list， 规划出的路径list\n",
    "def a_star(env_data, start_flag, end_flag, obs_flag):\n",
    "    init(env_data, start_flag, end_flag)\n",
    "    open_list.append(start_node)\n",
    "    ret = []\n",
    "\n",
    "    while True:\n",
    "        if is_in_list(open_list, end_node):\n",
    "            print(\"恭喜你，找到了那个路径!\")\n",
    "            break\n",
    "        if not len(open_list):\n",
    "            print(\"很遗憾，没有找到路径!\")\n",
    "            break\n",
    "\n",
    "        now_node = get_min_f_node(open_list)\n",
    "\n",
    "        open_list.remove(now_node)\n",
    "        close_list.append(now_node)\n",
    "\n",
    "        deal_neighbor_node(env_data, obs_flag, now_node)\n",
    "\n",
    "    if is_in_list(open_list, end_node):\n",
    "        now_node_x, now_node_y = end_node[0]\n",
    "        while True:\n",
    "            ret.append(map_data[now_node_x][now_node_y][0])\n",
    "            now_node_x, now_node_y = map_data[now_node_x][now_node_y][1]\n",
    "            if (now_node_x, now_node_y) == start_node[0]:\n",
    "                ret.append(start_node[0])\n",
    "                break\n",
    "    return ret"
   ]
  },
  {
   "cell_type": "markdown",
   "metadata": {},
   "source": [
    "> 注意: 当你写完了所有的代码，并且回答了所有的问题。你就可以把你的 iPython Notebook 导出成 HTML 文件。你可以在菜单栏，这样导出**File -> Download as -> HTML (.html)**把这个 HTML 和这个 iPython notebook 一起做为你的作业提交。"
   ]
  }
 ],
 "metadata": {
  "kernelspec": {
   "display_name": "Python 3",
   "language": "python",
   "name": "python3"
  },
  "language_info": {
   "codemirror_mode": {
    "name": "ipython",
    "version": 3
   },
   "file_extension": ".py",
   "mimetype": "text/x-python",
   "name": "python",
   "nbconvert_exporter": "python",
   "pygments_lexer": "ipython3",
   "version": "3.7.3"
  }
 },
 "nbformat": 4,
 "nbformat_minor": 2
}
